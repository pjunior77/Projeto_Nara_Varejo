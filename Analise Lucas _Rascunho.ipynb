{
 "cells": [
  {
   "cell_type": "code",
   "execution_count": 29,
   "id": "d7381c37",
   "metadata": {},
   "outputs": [],
   "source": [
    "import pandas as pd\n",
    "import numpy as np\n",
    "import matplotlib.pyplot as plt"
   ]
  },
  {
   "cell_type": "code",
   "execution_count": 30,
   "id": "bcdf9802",
   "metadata": {},
   "outputs": [],
   "source": [
    "clientes = pd.read_csv('clientes.csv')\n",
    "produtos = pd.read_csv('produtos.csv')\n",
    "vendas = pd.read_csv('vendas.csv')\n",
    "avaliacoes = pd.read_csv('avaliacoes.csv')\n",
    "campanhas = pd.read_csv('campanhas.csv')\n",
    "atendimentos = pd.read_csv('atendimentos.csv')"
   ]
  },
  {
   "cell_type": "code",
   "execution_count": 39,
   "id": "c0063f1a",
   "metadata": {},
   "outputs": [
    {
     "data": {
      "text/html": [
       "<div>\n",
       "<style scoped>\n",
       "    .dataframe tbody tr th:only-of-type {\n",
       "        vertical-align: middle;\n",
       "    }\n",
       "\n",
       "    .dataframe tbody tr th {\n",
       "        vertical-align: top;\n",
       "    }\n",
       "\n",
       "    .dataframe thead th {\n",
       "        text-align: right;\n",
       "    }\n",
       "</style>\n",
       "<table border=\"1\" class=\"dataframe\">\n",
       "  <thead>\n",
       "    <tr style=\"text-align: right;\">\n",
       "      <th></th>\n",
       "      <th>Canal</th>\n",
       "      <th>Valor_Total</th>\n",
       "    </tr>\n",
       "  </thead>\n",
       "  <tbody>\n",
       "    <tr>\n",
       "      <th>0</th>\n",
       "      <td>Loja Física</td>\n",
       "      <td>74297919.16</td>\n",
       "    </tr>\n",
       "    <tr>\n",
       "      <th>1</th>\n",
       "      <td>Online</td>\n",
       "      <td>75226105.95</td>\n",
       "    </tr>\n",
       "  </tbody>\n",
       "</table>\n",
       "</div>"
      ],
      "text/plain": [
       "         Canal  Valor_Total\n",
       "0  Loja Física  74297919.16\n",
       "1       Online  75226105.95"
      ]
     },
     "execution_count": 39,
     "metadata": {},
     "output_type": "execute_result"
    }
   ],
   "source": [
    "canal_vendas = vendas.groupby('Canal')['Valor_Total'].sum().reset_index()\n",
    "canal_vendas\n"
   ]
  },
  {
   "cell_type": "markdown",
   "id": "b406ad4f",
   "metadata": {},
   "source": [
    "ANÁLISE: CANAIS DE VENDAS APRESENTAM EQUILIBRIO NO VOLUME DE VENDAS."
   ]
  },
  {
   "cell_type": "code",
   "execution_count": 40,
   "id": "15e98766",
   "metadata": {},
   "outputs": [
    {
     "data": {
      "text/html": [
       "<div>\n",
       "<style scoped>\n",
       "    .dataframe tbody tr th:only-of-type {\n",
       "        vertical-align: middle;\n",
       "    }\n",
       "\n",
       "    .dataframe tbody tr th {\n",
       "        vertical-align: top;\n",
       "    }\n",
       "\n",
       "    .dataframe thead th {\n",
       "        text-align: right;\n",
       "    }\n",
       "</style>\n",
       "<table border=\"1\" class=\"dataframe\">\n",
       "  <thead>\n",
       "    <tr style=\"text-align: right;\">\n",
       "      <th></th>\n",
       "      <th>ID_Cliente</th>\n",
       "      <th>Nome</th>\n",
       "      <th>Idade</th>\n",
       "      <th>Sexo</th>\n",
       "      <th>Cidade</th>\n",
       "      <th>Estado</th>\n",
       "      <th>Canal_Aquisicao</th>\n",
       "    </tr>\n",
       "  </thead>\n",
       "  <tbody>\n",
       "    <tr>\n",
       "      <th>0</th>\n",
       "      <td>1</td>\n",
       "      <td>Cauã Guerra</td>\n",
       "      <td>56</td>\n",
       "      <td>M</td>\n",
       "      <td>São Paulo</td>\n",
       "      <td>RS</td>\n",
       "      <td>Loja Física</td>\n",
       "    </tr>\n",
       "    <tr>\n",
       "      <th>1</th>\n",
       "      <td>2</td>\n",
       "      <td>Luísa Vargas</td>\n",
       "      <td>69</td>\n",
       "      <td>M</td>\n",
       "      <td>Rio de Janeiro</td>\n",
       "      <td>RJ</td>\n",
       "      <td>Online</td>\n",
       "    </tr>\n",
       "    <tr>\n",
       "      <th>2</th>\n",
       "      <td>3</td>\n",
       "      <td>Larissa Monteiro</td>\n",
       "      <td>46</td>\n",
       "      <td>M</td>\n",
       "      <td>Porto Alegre</td>\n",
       "      <td>PR</td>\n",
       "      <td>Online</td>\n",
       "    </tr>\n",
       "    <tr>\n",
       "      <th>3</th>\n",
       "      <td>4</td>\n",
       "      <td>Larissa Ribeiro</td>\n",
       "      <td>32</td>\n",
       "      <td>F</td>\n",
       "      <td>Porto Alegre</td>\n",
       "      <td>PR</td>\n",
       "      <td>Loja Física</td>\n",
       "    </tr>\n",
       "    <tr>\n",
       "      <th>4</th>\n",
       "      <td>5</td>\n",
       "      <td>Otávio Castro</td>\n",
       "      <td>60</td>\n",
       "      <td>M</td>\n",
       "      <td>Belo Horizonte</td>\n",
       "      <td>RJ</td>\n",
       "      <td>Online</td>\n",
       "    </tr>\n",
       "  </tbody>\n",
       "</table>\n",
       "</div>"
      ],
      "text/plain": [
       "   ID_Cliente              Nome  Idade Sexo          Cidade Estado  \\\n",
       "0           1       Cauã Guerra     56    M       São Paulo     RS   \n",
       "1           2      Luísa Vargas     69    M  Rio de Janeiro     RJ   \n",
       "2           3  Larissa Monteiro     46    M    Porto Alegre     PR   \n",
       "3           4   Larissa Ribeiro     32    F    Porto Alegre     PR   \n",
       "4           5     Otávio Castro     60    M  Belo Horizonte     RJ   \n",
       "\n",
       "  Canal_Aquisicao  \n",
       "0     Loja Física  \n",
       "1          Online  \n",
       "2          Online  \n",
       "3     Loja Física  \n",
       "4          Online  "
      ]
     },
     "execution_count": 40,
     "metadata": {},
     "output_type": "execute_result"
    }
   ],
   "source": [
    "clientes.head()"
   ]
  },
  {
   "cell_type": "code",
   "execution_count": 47,
   "id": "921cc596",
   "metadata": {},
   "outputs": [
    {
     "data": {
      "text/html": [
       "<div>\n",
       "<style scoped>\n",
       "    .dataframe tbody tr th:only-of-type {\n",
       "        vertical-align: middle;\n",
       "    }\n",
       "\n",
       "    .dataframe tbody tr th {\n",
       "        vertical-align: top;\n",
       "    }\n",
       "\n",
       "    .dataframe thead th {\n",
       "        text-align: right;\n",
       "    }\n",
       "</style>\n",
       "<table border=\"1\" class=\"dataframe\">\n",
       "  <thead>\n",
       "    <tr style=\"text-align: right;\">\n",
       "      <th></th>\n",
       "      <th>Idade</th>\n",
       "      <th>Sexo</th>\n",
       "      <th>Quantidade</th>\n",
       "    </tr>\n",
       "  </thead>\n",
       "  <tbody>\n",
       "    <tr>\n",
       "      <th>0</th>\n",
       "      <td>18</td>\n",
       "      <td>F</td>\n",
       "      <td>12</td>\n",
       "    </tr>\n",
       "    <tr>\n",
       "      <th>1</th>\n",
       "      <td>18</td>\n",
       "      <td>M</td>\n",
       "      <td>12</td>\n",
       "    </tr>\n",
       "    <tr>\n",
       "      <th>2</th>\n",
       "      <td>19</td>\n",
       "      <td>F</td>\n",
       "      <td>11</td>\n",
       "    </tr>\n",
       "    <tr>\n",
       "      <th>3</th>\n",
       "      <td>19</td>\n",
       "      <td>M</td>\n",
       "      <td>10</td>\n",
       "    </tr>\n",
       "    <tr>\n",
       "      <th>4</th>\n",
       "      <td>20</td>\n",
       "      <td>F</td>\n",
       "      <td>9</td>\n",
       "    </tr>\n",
       "  </tbody>\n",
       "</table>\n",
       "</div>"
      ],
      "text/plain": [
       "   Idade Sexo  Quantidade\n",
       "0     18    F          12\n",
       "1     18    M          12\n",
       "2     19    F          11\n",
       "3     19    M          10\n",
       "4     20    F           9"
      ]
     },
     "execution_count": 47,
     "metadata": {},
     "output_type": "execute_result"
    }
   ],
   "source": [
    "clientes_dados = clientes.groupby(['Idade', 'Sexo']).size().reset_index(name='Quantidade')\n",
    "clientes_dados.head()"
   ]
  }
 ],
 "metadata": {
  "kernelspec": {
   "display_name": "Python 3",
   "language": "python",
   "name": "python3"
  },
  "language_info": {
   "codemirror_mode": {
    "name": "ipython",
    "version": 3
   },
   "file_extension": ".py",
   "mimetype": "text/x-python",
   "name": "python",
   "nbconvert_exporter": "python",
   "pygments_lexer": "ipython3",
   "version": "3.11.4"
  }
 },
 "nbformat": 4,
 "nbformat_minor": 5
}
