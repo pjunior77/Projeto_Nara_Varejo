{
 "cells": [
  {
   "cell_type": "code",
   "execution_count": 10,
   "id": "d8f620a2",
   "metadata": {},
   "outputs": [],
   "source": [
    "import pandas as pd\n",
    "import numpy as np\n",
    "import matplotlib.pyplot as plt"
   ]
  },
  {
   "cell_type": "code",
   "execution_count": 11,
   "id": "37a6dcd2",
   "metadata": {},
   "outputs": [
    {
     "data": {
      "text/html": [
       "<div>\n",
       "<style scoped>\n",
       "    .dataframe tbody tr th:only-of-type {\n",
       "        vertical-align: middle;\n",
       "    }\n",
       "\n",
       "    .dataframe tbody tr th {\n",
       "        vertical-align: top;\n",
       "    }\n",
       "\n",
       "    .dataframe thead th {\n",
       "        text-align: right;\n",
       "    }\n",
       "</style>\n",
       "<table border=\"1\" class=\"dataframe\">\n",
       "  <thead>\n",
       "    <tr style=\"text-align: right;\">\n",
       "      <th></th>\n",
       "      <th>ID_Venda</th>\n",
       "      <th>ID_Cliente</th>\n",
       "      <th>ID_Produto</th>\n",
       "      <th>Data</th>\n",
       "      <th>Quantidade</th>\n",
       "      <th>Canal</th>\n",
       "      <th>Valor_Total</th>\n",
       "    </tr>\n",
       "  </thead>\n",
       "  <tbody>\n",
       "    <tr>\n",
       "      <th>0</th>\n",
       "      <td>1</td>\n",
       "      <td>350</td>\n",
       "      <td>45</td>\n",
       "      <td>2022-09-23</td>\n",
       "      <td>4</td>\n",
       "      <td>Online</td>\n",
       "      <td>5795.64</td>\n",
       "    </tr>\n",
       "    <tr>\n",
       "      <th>1</th>\n",
       "      <td>2</td>\n",
       "      <td>925</td>\n",
       "      <td>68</td>\n",
       "      <td>2024-02-09</td>\n",
       "      <td>1</td>\n",
       "      <td>Loja Física</td>\n",
       "      <td>4614.41</td>\n",
       "    </tr>\n",
       "    <tr>\n",
       "      <th>2</th>\n",
       "      <td>3</td>\n",
       "      <td>915</td>\n",
       "      <td>75</td>\n",
       "      <td>2022-09-11</td>\n",
       "      <td>4</td>\n",
       "      <td>Online</td>\n",
       "      <td>2057.48</td>\n",
       "    </tr>\n",
       "    <tr>\n",
       "      <th>3</th>\n",
       "      <td>4</td>\n",
       "      <td>494</td>\n",
       "      <td>47</td>\n",
       "      <td>2024-05-10</td>\n",
       "      <td>4</td>\n",
       "      <td>Loja Física</td>\n",
       "      <td>12864.44</td>\n",
       "    </tr>\n",
       "    <tr>\n",
       "      <th>4</th>\n",
       "      <td>5</td>\n",
       "      <td>523</td>\n",
       "      <td>79</td>\n",
       "      <td>2023-10-15</td>\n",
       "      <td>4</td>\n",
       "      <td>Loja Física</td>\n",
       "      <td>13317.28</td>\n",
       "    </tr>\n",
       "  </tbody>\n",
       "</table>\n",
       "</div>"
      ],
      "text/plain": [
       "   ID_Venda  ID_Cliente  ID_Produto        Data  Quantidade        Canal  \\\n",
       "0         1         350          45  2022-09-23           4       Online   \n",
       "1         2         925          68  2024-02-09           1  Loja Física   \n",
       "2         3         915          75  2022-09-11           4       Online   \n",
       "3         4         494          47  2024-05-10           4  Loja Física   \n",
       "4         5         523          79  2023-10-15           4  Loja Física   \n",
       "\n",
       "   Valor_Total  \n",
       "0      5795.64  \n",
       "1      4614.41  \n",
       "2      2057.48  \n",
       "3     12864.44  \n",
       "4     13317.28  "
      ]
     },
     "execution_count": 11,
     "metadata": {},
     "output_type": "execute_result"
    }
   ],
   "source": [
    "df_vendas = pd.read_csv(\"vendas.csv\")\n",
    "df_vendas.head()"
   ]
  },
  {
   "cell_type": "code",
   "execution_count": 18,
   "id": "be140f12",
   "metadata": {},
   "outputs": [
    {
     "data": {
      "text/html": [
       "<div>\n",
       "<style scoped>\n",
       "    .dataframe tbody tr th:only-of-type {\n",
       "        vertical-align: middle;\n",
       "    }\n",
       "\n",
       "    .dataframe tbody tr th {\n",
       "        vertical-align: top;\n",
       "    }\n",
       "\n",
       "    .dataframe thead th {\n",
       "        text-align: right;\n",
       "    }\n",
       "</style>\n",
       "<table border=\"1\" class=\"dataframe\">\n",
       "  <thead>\n",
       "    <tr style=\"text-align: right;\">\n",
       "      <th></th>\n",
       "      <th>Canal</th>\n",
       "      <th>Valor_Total</th>\n",
       "    </tr>\n",
       "  </thead>\n",
       "  <tbody>\n",
       "    <tr>\n",
       "      <th>0</th>\n",
       "      <td>Loja Física</td>\n",
       "      <td>74297919.16</td>\n",
       "    </tr>\n",
       "    <tr>\n",
       "      <th>1</th>\n",
       "      <td>Online</td>\n",
       "      <td>75226105.95</td>\n",
       "    </tr>\n",
       "  </tbody>\n",
       "</table>\n",
       "</div>"
      ],
      "text/plain": [
       "         Canal  Valor_Total\n",
       "0  Loja Física  74297919.16\n",
       "1       Online  75226105.95"
      ]
     },
     "execution_count": 18,
     "metadata": {},
     "output_type": "execute_result"
    }
   ],
   "source": [
    "df_canal = df_vendas.groupby('Canal')['Valor_Total'].sum().reset_index()\n",
    "df_canal\n"
   ]
  },
  {
   "cell_type": "markdown",
   "id": "2e84fd34",
   "metadata": {},
   "source": [
    "ANÁLISE: CANAIS DE VENDAS APRESENTAM EQUILIBRIO NO VOLUME DE VENDAS.\n"
   ]
  }
 ],
 "metadata": {
  "kernelspec": {
   "display_name": "Python 3",
   "language": "python",
   "name": "python3"
  },
  "language_info": {
   "codemirror_mode": {
    "name": "ipython",
    "version": 3
   },
   "file_extension": ".py",
   "mimetype": "text/x-python",
   "name": "python",
   "nbconvert_exporter": "python",
   "pygments_lexer": "ipython3",
   "version": "3.13.7"
  }
 },
 "nbformat": 4,
 "nbformat_minor": 5
}
