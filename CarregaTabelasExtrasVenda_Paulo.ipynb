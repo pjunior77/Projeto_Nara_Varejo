{
 "cells": [
  {
   "cell_type": "code",
   "execution_count": 39,
   "id": "3132ca63",
   "metadata": {},
   "outputs": [],
   "source": [
    "#Importo as bibliotecas\n",
    "import pandas as pd"
   ]
  },
  {
   "cell_type": "code",
   "execution_count": 40,
   "id": "10adc50c",
   "metadata": {},
   "outputs": [],
   "source": [
    "#Carrega as bases extras de vendas\n",
    "dfVendas1 = pd.read_csv(\"venda 1.csv\", delimiter=\",\")\n",
    "dfVendas2 = pd.read_csv(\"venda 2.csv\", delimiter=\",\")\n",
    "dfVendas3 = pd.read_csv(\"venda 3.csv\", delimiter=\",\")"
   ]
  },
  {
   "cell_type": "code",
   "execution_count": 55,
   "id": "1e686fb1",
   "metadata": {},
   "outputs": [
    {
     "data": {
      "text/html": [
       "<div>\n",
       "<style scoped>\n",
       "    .dataframe tbody tr th:only-of-type {\n",
       "        vertical-align: middle;\n",
       "    }\n",
       "\n",
       "    .dataframe tbody tr th {\n",
       "        vertical-align: top;\n",
       "    }\n",
       "\n",
       "    .dataframe thead th {\n",
       "        text-align: right;\n",
       "    }\n",
       "</style>\n",
       "<table border=\"1\" class=\"dataframe\">\n",
       "  <thead>\n",
       "    <tr style=\"text-align: right;\">\n",
       "      <th></th>\n",
       "      <th>ID_Venda</th>\n",
       "      <th>ID_Cliente</th>\n",
       "      <th>ID_Produto</th>\n",
       "      <th>Data</th>\n",
       "      <th>Quantidade</th>\n",
       "      <th>Canal</th>\n",
       "      <th>Valor_Total</th>\n",
       "    </tr>\n",
       "  </thead>\n",
       "  <tbody>\n",
       "    <tr>\n",
       "      <th>0</th>\n",
       "      <td>19200</td>\n",
       "      <td>57</td>\n",
       "      <td>56</td>\n",
       "      <td>2025-05-25 00:00:00</td>\n",
       "      <td>2</td>\n",
       "      <td>Loja Física</td>\n",
       "      <td>827501</td>\n",
       "    </tr>\n",
       "    <tr>\n",
       "      <th>1</th>\n",
       "      <td>19201</td>\n",
       "      <td>183</td>\n",
       "      <td>12</td>\n",
       "      <td>2025-07-12 00:00:00</td>\n",
       "      <td>1</td>\n",
       "      <td>Online</td>\n",
       "      <td>316061</td>\n",
       "    </tr>\n",
       "  </tbody>\n",
       "</table>\n",
       "</div>"
      ],
      "text/plain": [
       "   ID_Venda  ID_Cliente  ID_Produto                 Data  Quantidade  \\\n",
       "0     19200          57          56  2025-05-25 00:00:00           2   \n",
       "1     19201         183          12  2025-07-12 00:00:00           1   \n",
       "\n",
       "         Canal  Valor_Total  \n",
       "0  Loja Física       827501  \n",
       "1       Online       316061  "
      ]
     },
     "execution_count": 55,
     "metadata": {},
     "output_type": "execute_result"
    }
   ],
   "source": [
    "#Concateno as bases em uma só\n",
    "dfVendasExtras = pd.concat([dfVendas1, dfVendas2, dfVendas3], ignore_index=True)\n",
    "dfVendasExtras.head(2)"
   ]
  },
  {
   "cell_type": "code",
   "execution_count": 56,
   "id": "1ea999f9",
   "metadata": {},
   "outputs": [
    {
     "name": "stdout",
     "output_type": "stream",
     "text": [
      "<class 'pandas.core.frame.DataFrame'>\n",
      "RangeIndex: 4000 entries, 0 to 3999\n",
      "Data columns (total 7 columns):\n",
      " #   Column       Non-Null Count  Dtype         \n",
      "---  ------       --------------  -----         \n",
      " 0   ID_Venda     4000 non-null   int64         \n",
      " 1   ID_Cliente   4000 non-null   int64         \n",
      " 2   ID_Produto   4000 non-null   int64         \n",
      " 3   Data         4000 non-null   datetime64[ns]\n",
      " 4   Quantidade   4000 non-null   int64         \n",
      " 5   Canal        4000 non-null   object        \n",
      " 6   Valor_Total  4000 non-null   int64         \n",
      "dtypes: datetime64[ns](1), int64(5), object(1)\n",
      "memory usage: 218.9+ KB\n"
     ]
    }
   ],
   "source": [
    "#Transformo a coluna Data para o tipo de dados Data\n",
    "dfVendasExtras[\"Data\"] = pd.to_datetime(dfVendasExtras[\"Data\"].str.replace(\" 00:00:00\", \"\", regex=False))\n",
    "dfVendasExtras.info()\n",
    "\n"
   ]
  }
 ],
 "metadata": {
  "kernelspec": {
   "display_name": "Python 3",
   "language": "python",
   "name": "python3"
  },
  "language_info": {
   "codemirror_mode": {
    "name": "ipython",
    "version": 3
   },
   "file_extension": ".py",
   "mimetype": "text/x-python",
   "name": "python",
   "nbconvert_exporter": "python",
   "pygments_lexer": "ipython3",
   "version": "3.11.4"
  }
 },
 "nbformat": 4,
 "nbformat_minor": 5
}
