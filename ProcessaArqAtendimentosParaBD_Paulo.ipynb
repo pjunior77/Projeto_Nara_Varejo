{
 "cells": [
  {
   "cell_type": "code",
   "execution_count": 5,
   "id": "7f915cc5",
   "metadata": {},
   "outputs": [],
   "source": [
    "#Importo as bibliotecas\n",
    "import pandas as pd"
   ]
  },
  {
   "cell_type": "code",
   "execution_count": 6,
   "id": "82388cf0",
   "metadata": {},
   "outputs": [
    {
     "data": {
      "text/html": [
       "<div>\n",
       "<style scoped>\n",
       "    .dataframe tbody tr th:only-of-type {\n",
       "        vertical-align: middle;\n",
       "    }\n",
       "\n",
       "    .dataframe tbody tr th {\n",
       "        vertical-align: top;\n",
       "    }\n",
       "\n",
       "    .dataframe thead th {\n",
       "        text-align: right;\n",
       "    }\n",
       "</style>\n",
       "<table border=\"1\" class=\"dataframe\">\n",
       "  <thead>\n",
       "    <tr style=\"text-align: right;\">\n",
       "      <th></th>\n",
       "      <th>ID_Atendimento</th>\n",
       "      <th>ID_Cliente</th>\n",
       "      <th>Tipo</th>\n",
       "      <th>Data</th>\n",
       "      <th>Tempo_Resposta</th>\n",
       "      <th>Nota_Satisfacao</th>\n",
       "    </tr>\n",
       "  </thead>\n",
       "  <tbody>\n",
       "    <tr>\n",
       "      <th>0</th>\n",
       "      <td>1</td>\n",
       "      <td>52</td>\n",
       "      <td>Elogio</td>\n",
       "      <td>2023-10-17</td>\n",
       "      <td>14.79</td>\n",
       "      <td>2</td>\n",
       "    </tr>\n",
       "    <tr>\n",
       "      <th>1</th>\n",
       "      <td>2</td>\n",
       "      <td>93</td>\n",
       "      <td>Dúvida</td>\n",
       "      <td>2022-04-25</td>\n",
       "      <td>0.33</td>\n",
       "      <td>4</td>\n",
       "    </tr>\n",
       "  </tbody>\n",
       "</table>\n",
       "</div>"
      ],
      "text/plain": [
       "   ID_Atendimento  ID_Cliente    Tipo        Data  Tempo_Resposta  \\\n",
       "0               1          52  Elogio  2023-10-17           14.79   \n",
       "1               2          93  Dúvida  2022-04-25            0.33   \n",
       "\n",
       "   Nota_Satisfacao  \n",
       "0                2  \n",
       "1                4  "
      ]
     },
     "execution_count": 6,
     "metadata": {},
     "output_type": "execute_result"
    }
   ],
   "source": [
    "#Carrega a base de atendimentos\n",
    "dfAtendimentos = pd.read_csv(\"atendimentos.csv\", delimiter=\",\")\n",
    "dfAtendimentos.head(2)"
   ]
  },
  {
   "cell_type": "code",
   "execution_count": 7,
   "id": "91304d68",
   "metadata": {},
   "outputs": [
    {
     "data": {
      "text/html": [
       "<div>\n",
       "<style scoped>\n",
       "    .dataframe tbody tr th:only-of-type {\n",
       "        vertical-align: middle;\n",
       "    }\n",
       "\n",
       "    .dataframe tbody tr th {\n",
       "        vertical-align: top;\n",
       "    }\n",
       "\n",
       "    .dataframe thead th {\n",
       "        text-align: right;\n",
       "    }\n",
       "</style>\n",
       "<table border=\"1\" class=\"dataframe\">\n",
       "  <thead>\n",
       "    <tr style=\"text-align: right;\">\n",
       "      <th></th>\n",
       "      <th>ID_Atendimento</th>\n",
       "      <th>ID_Cliente</th>\n",
       "      <th>Tipo</th>\n",
       "      <th>Data</th>\n",
       "      <th>Tempo_Resposta</th>\n",
       "      <th>Nota_Satisfacao</th>\n",
       "    </tr>\n",
       "  </thead>\n",
       "  <tbody>\n",
       "    <tr>\n",
       "      <th>0</th>\n",
       "      <td>1</td>\n",
       "      <td>52</td>\n",
       "      <td>Elogio</td>\n",
       "      <td>2023-10-17</td>\n",
       "      <td>14.79</td>\n",
       "      <td>2</td>\n",
       "    </tr>\n",
       "    <tr>\n",
       "      <th>1</th>\n",
       "      <td>2</td>\n",
       "      <td>93</td>\n",
       "      <td>Dúvida</td>\n",
       "      <td>2022-04-25</td>\n",
       "      <td>0.33</td>\n",
       "      <td>4</td>\n",
       "    </tr>\n",
       "  </tbody>\n",
       "</table>\n",
       "</div>"
      ],
      "text/plain": [
       "   ID_Atendimento  ID_Cliente    Tipo        Data Tempo_Resposta  \\\n",
       "0               1          52  Elogio  2023-10-17          14.79   \n",
       "1               2          93  Dúvida  2022-04-25           0.33   \n",
       "\n",
       "   Nota_Satisfacao  \n",
       "0                2  \n",
       "1                4  "
      ]
     },
     "execution_count": 7,
     "metadata": {},
     "output_type": "execute_result"
    }
   ],
   "source": [
    "#Formato a coluna Tempo_Resposta com duas casas decimais\n",
    "dfAtendimentos[\"Tempo_Resposta\"] = dfAtendimentos[\"Tempo_Resposta\"].map('{:.2f}'.format)\n",
    "dfAtendimentos.head(2)"
   ]
  },
  {
   "cell_type": "code",
   "execution_count": 8,
   "id": "8848aa1d",
   "metadata": {},
   "outputs": [],
   "source": [
    "#Exporto os dados para um arquivo CSV\n",
    "dfAtendimentos.to_csv(\"dfAtendimentos.csv\", sep=\",\", index=False)"
   ]
  }
 ],
 "metadata": {
  "kernelspec": {
   "display_name": "Python 3",
   "language": "python",
   "name": "python3"
  },
  "language_info": {
   "codemirror_mode": {
    "name": "ipython",
    "version": 3
   },
   "file_extension": ".py",
   "mimetype": "text/x-python",
   "name": "python",
   "nbconvert_exporter": "python",
   "pygments_lexer": "ipython3",
   "version": "3.13.7"
  }
 },
 "nbformat": 4,
 "nbformat_minor": 5
}
